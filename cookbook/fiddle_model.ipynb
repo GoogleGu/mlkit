{
 "nbformat": 4,
 "nbformat_minor": 2,
 "metadata": {
  "language_info": {
   "name": "python",
   "codemirror_mode": {
    "name": "ipython",
    "version": 3
   }
  },
  "orig_nbformat": 2,
  "file_extension": ".py",
  "mimetype": "text/x-python",
  "name": "python",
  "npconvert_exporter": "python",
  "pygments_lexer": "ipython3",
  "version": 3
 },
 "cells": [
  {
   "cell_type": "code",
   "execution_count": 3,
   "metadata": {},
   "outputs": [],
   "source": [
    "import torch \n",
    "import torchvision\n",
    "import torch.nn as nn\n",
    "import numpy as np\n",
    "import torchvision.transforms as transforms"
   ]
  },
  {
   "cell_type": "markdown",
   "execution_count": 1,
   "metadata": {},
   "outputs": [
    {
     "ename": "SyntaxError",
     "evalue": "invalid character in identifier (<ipython-input-1-4f28d1ab630a>, line 2)",
     "output_type": "error",
     "traceback": [
      "\u001b[0;36m  File \u001b[0;32m\"<ipython-input-1-4f28d1ab630a>\"\u001b[0;36m, line \u001b[0;32m2\u001b[0m\n\u001b[0;31m    加载、存储、修改数据模型\u001b[0m\n\u001b[0m               ^\u001b[0m\n\u001b[0;31mSyntaxError\u001b[0m\u001b[0;31m:\u001b[0m invalid character in identifier\n"
     ]
    }
   ],
   "source": [
    "# 操作模型\n",
    "加载、存储、修改数据模型\n"
   ]
  },
  {
   "cell_type": "markdown",
   "execution_count": null,
   "metadata": {},
   "outputs": [],
   "source": [
    "## 从官方资源加载模型结构"
   ]
  },
  {
   "cell_type": "code",
   "execution_count": 4,
   "metadata": {},
   "outputs": [
    {
     "name": "stderr",
     "output_type": "stream",
     "text": "Downloading: \"https://download.pytorch.org/models/resnet18-5c106cde.pth\" to /Users/arthur/.cache/torch/checkpoints/resnet18-5c106cde.pth\n100%|██████████| 44.7M/44.7M [00:14<00:00, 3.29MB/s]\ntorch.Size([64, 100])\n"
    }
   ],
   "source": [
    "# Download and load the pretrained ResNet-18.\n",
    "resnet = torchvision.models.resnet18(pretrained=True)\n",
    "\n",
    "# If you want to finetune only the top layer of the model, set as below.\n",
    "for param in resnet.parameters():\n",
    "    param.requires_grad = False\n",
    "\n",
    "# Replace the top layer for finetuning.\n",
    "resnet.fc = nn.Linear(resnet.fc.in_features, 100)  # 100 is an example.\n",
    "\n",
    "# Forward pass.\n",
    "images = torch.randn(64, 3, 224, 224)\n",
    "outputs = resnet(images)\n",
    "print (outputs.size())     # (64, 100)"
   ]
  },
  {
   "cell_type": "markdown",
   "execution_count": null,
   "metadata": {},
   "outputs": [],
   "source": [
    "## 从本地硬盘加载与存储数据模型\n"
   ]
  },
  {
   "cell_type": "code",
   "execution_count": null,
   "metadata": {},
   "outputs": [],
   "source": [
    "# Assume the file containing the model is saved as model.ckpt\n",
    "model_file = 'model.ckpt'\n",
    "\n",
    "# save model structure and parammeters\n",
    "torch.save(resnet, model_file)\n",
    "\n",
    "# load model structure and parameters\n",
    "model = torch.load(model_file)\n",
    "\n",
    "\n",
    "# Assume the file containing model parameters is saved as params.ckpt\n",
    "param_file = 'params.ckpy'\n",
    "\n",
    "# save parameters only\n",
    "torch.save(resnet.state_dict(), param_file)\n",
    "\n",
    "# load parameters only\n",
    "torch.load_state_dict(torch.load(param_file))\n"
   ]
  }
 ]
}
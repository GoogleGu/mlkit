{
 "nbformat": 4,
 "nbformat_minor": 2,
 "metadata": {
  "language_info": {
   "name": "python",
   "codemirror_mode": {
    "name": "ipython",
    "version": 3
   }
  },
  "orig_nbformat": 2,
  "file_extension": ".py",
  "mimetype": "text/x-python",
  "name": "python",
  "npconvert_exporter": "python",
  "pygments_lexer": "ipython3",
  "version": 3
 },
 "cells": [
  {
   "cell_type": "markdown",
   "execution_count": null,
   "metadata": {},
   "outputs": [],
   "source": [
    "# 基础\n",
    "关于工作空间建立等一些基本操作的最佳实践"
   ]
  },
  {
   "cell_type": "markdown",
   "execution_count": 1,
   "metadata": {},
   "outputs": [],
   "source": [
    "## 模块导入"
   ]
  },
  {
   "cell_type": "code",
   "execution_count": null,
   "metadata": {},
   "outputs": [],
   "source": [
    "# 导入torch包本体\n",
    "import torch\n",
    "\n",
    "# 引入pytorch的神经网络模块torch.nn\n",
    "import torch.nn as nn\n",
    "import torch.nn.functional as F # nn中的functional一般设置为F方便调用\n",
    "\n",
    "# 引入优化器\n",
    "import torch.optim\n",
    "\n",
    "# 引入图像处理模块\n",
    "import torchvision\n",
    "# 数据处理和数据增强模块transforms\n",
    "from torchvision import transforms as transforms\n",
    "\n",
    "# 引入预置神经网络模型\n",
    "import torchvision.models as models"
   ]
  }
 ]
}